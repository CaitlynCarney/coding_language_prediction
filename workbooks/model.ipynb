{
 "cells": [
  {
   "cell_type": "code",
   "execution_count": 1,
   "metadata": {},
   "outputs": [],
   "source": [
    "import pandas as pd\n",
    "import numpy as np\n",
    "\n",
    "import matplotlib.pyplot as plt\n",
    "\n",
    "from sklearn.feature_extraction.text import TfidfVectorizer\n",
    "from sklearn.model_selection import train_test_split\n",
    "from sklearn.metrics import classification_report, accuracy_score\n",
    "from sklearn.tree import export_graphviz\n",
    "from sklearn.metrics import confusion_matrix\n",
    "# import modeling clasiifiers\n",
    "from sklearn.tree import DecisionTreeClassifier\n",
    "from sklearn.neighbors import KNeighborsClassifier\n",
    "from sklearn.linear_model import LogisticRegression\n",
    "from sklearn.ensemble import RandomForestClassifier\n",
    "from sklearn.linear_model import RidgeClassifier\n",
    "from sklearn.linear_model import SGDClassifier\n",
    "from sklearn.ensemble import RandomForestClassifier\n",
    "\n",
    "import nltk\n",
    "import unicodedata\n",
    "import re"
   ]
  },
  {
   "cell_type": "markdown",
   "metadata": {},
   "source": [
    "# Acquire"
   ]
  },
  {
   "cell_type": "code",
   "execution_count": 2,
   "metadata": {},
   "outputs": [
    {
     "data": {
      "text/html": [
       "<div>\n",
       "<style scoped>\n",
       "    .dataframe tbody tr th:only-of-type {\n",
       "        vertical-align: middle;\n",
       "    }\n",
       "\n",
       "    .dataframe tbody tr th {\n",
       "        vertical-align: top;\n",
       "    }\n",
       "\n",
       "    .dataframe thead th {\n",
       "        text-align: right;\n",
       "    }\n",
       "</style>\n",
       "<table border=\"1\" class=\"dataframe\">\n",
       "  <thead>\n",
       "    <tr style=\"text-align: right;\">\n",
       "      <th></th>\n",
       "      <th>Unnamed: 0</th>\n",
       "      <th>repo</th>\n",
       "      <th>language</th>\n",
       "      <th>readme_contents</th>\n",
       "    </tr>\n",
       "  </thead>\n",
       "  <tbody>\n",
       "    <tr>\n",
       "      <th>0</th>\n",
       "      <td>0</td>\n",
       "      <td>eccentricdevotion/TARDIS</td>\n",
       "      <td>Java</td>\n",
       "      <td># TARDIS\\n\\nTARDIS is a Spigot / Paper plugin ...</td>\n",
       "    </tr>\n",
       "    <tr>\n",
       "      <th>1</th>\n",
       "      <td>1</td>\n",
       "      <td>kuralabs/reactive-core-doctor-who-web</td>\n",
       "      <td>JavaScript</td>\n",
       "      <td>==============================================...</td>\n",
       "    </tr>\n",
       "    <tr>\n",
       "      <th>2</th>\n",
       "      <td>2</td>\n",
       "      <td>fwallacephd/doctor-who</td>\n",
       "      <td>CSS</td>\n",
       "      <td>Notes about open source Doctor Who Project:\\n\\...</td>\n",
       "    </tr>\n",
       "    <tr>\n",
       "      <th>3</th>\n",
       "      <td>3</td>\n",
       "      <td>kuralabs/reactive-core-doctor-who-core</td>\n",
       "      <td>JavaScript</td>\n",
       "      <td>==============================================...</td>\n",
       "    </tr>\n",
       "    <tr>\n",
       "      <th>4</th>\n",
       "      <td>4</td>\n",
       "      <td>kuralabs/reactive-core-doctor-who-mobile</td>\n",
       "      <td>JavaScript</td>\n",
       "      <td>==============================================...</td>\n",
       "    </tr>\n",
       "  </tbody>\n",
       "</table>\n",
       "</div>"
      ],
      "text/plain": [
       "   Unnamed: 0                                      repo    language  \\\n",
       "0           0                  eccentricdevotion/TARDIS        Java   \n",
       "1           1     kuralabs/reactive-core-doctor-who-web  JavaScript   \n",
       "2           2                    fwallacephd/doctor-who         CSS   \n",
       "3           3    kuralabs/reactive-core-doctor-who-core  JavaScript   \n",
       "4           4  kuralabs/reactive-core-doctor-who-mobile  JavaScript   \n",
       "\n",
       "                                     readme_contents  \n",
       "0  # TARDIS\\n\\nTARDIS is a Spigot / Paper plugin ...  \n",
       "1  ==============================================...  \n",
       "2  Notes about open source Doctor Who Project:\\n\\...  \n",
       "3  ==============================================...  \n",
       "4  ==============================================...  "
      ]
     },
     "execution_count": 2,
     "metadata": {},
     "output_type": "execute_result"
    }
   ],
   "source": [
    "dw = pd.read_csv('dw.csv')\n",
    "dw.head()"
   ]
  },
  {
   "cell_type": "markdown",
   "metadata": {},
   "source": [
    "# Prepare"
   ]
  },
  {
   "cell_type": "code",
   "execution_count": 3,
   "metadata": {},
   "outputs": [
    {
     "data": {
      "text/html": [
       "<div>\n",
       "<style scoped>\n",
       "    .dataframe tbody tr th:only-of-type {\n",
       "        vertical-align: middle;\n",
       "    }\n",
       "\n",
       "    .dataframe tbody tr th {\n",
       "        vertical-align: top;\n",
       "    }\n",
       "\n",
       "    .dataframe thead th {\n",
       "        text-align: right;\n",
       "    }\n",
       "</style>\n",
       "<table border=\"1\" class=\"dataframe\">\n",
       "  <thead>\n",
       "    <tr style=\"text-align: right;\">\n",
       "      <th></th>\n",
       "      <th>Unnamed: 0</th>\n",
       "      <th>Unnamed: 0.1</th>\n",
       "      <th>repo</th>\n",
       "      <th>language</th>\n",
       "      <th>readme_contents</th>\n",
       "      <th>cleaned_content</th>\n",
       "      <th>tokenized_content</th>\n",
       "      <th>stemmed_content</th>\n",
       "      <th>lemma_content</th>\n",
       "      <th>no_stopwords_stem</th>\n",
       "      <th>no_stopwords_lemma</th>\n",
       "      <th>all_clean_stem</th>\n",
       "      <th>all_clean_lemma</th>\n",
       "    </tr>\n",
       "  </thead>\n",
       "  <tbody>\n",
       "    <tr>\n",
       "      <th>0</th>\n",
       "      <td>0</td>\n",
       "      <td>0</td>\n",
       "      <td>eccentricdevotion/TARDIS</td>\n",
       "      <td>Java</td>\n",
       "      <td># TARDIS\\n\\nTARDIS is a Spigot / Paper plugin ...</td>\n",
       "      <td>tardis\\n\\ntardis is a spigot  paper plugin th...</td>\n",
       "      <td>tardis\\n\\ntardis is a spigot paper plugin that...</td>\n",
       "      <td>tardi tardi is a spigot paper plugin that allo...</td>\n",
       "      <td>tardis tardis is a spigot paper plugin that al...</td>\n",
       "      <td>spigot paper plugin allows create lets time tr...</td>\n",
       "      <td>spigot paper plugin allows create lets time tr...</td>\n",
       "      <td>spigot paper plugin allows create lets time tr...</td>\n",
       "      <td>spigot paper plugin allows create lets time tr...</td>\n",
       "    </tr>\n",
       "    <tr>\n",
       "      <th>1</th>\n",
       "      <td>1</td>\n",
       "      <td>1</td>\n",
       "      <td>kuralabs/reactive-core-doctor-who-web</td>\n",
       "      <td>JavaScript</td>\n",
       "      <td>==============================================...</td>\n",
       "      <td>\\ndoctor who web app  reactive core architectu...</td>\n",
       "      <td>doctor who web app reactive core architecture ...</td>\n",
       "      <td>doctor who web app reactiv core architectur de...</td>\n",
       "      <td>doctor who web app reactive core architecture ...</td>\n",
       "      <td>web app reactive core architecture demo applic...</td>\n",
       "      <td>web app reactive core architecture demo applic...</td>\n",
       "      <td>web app reactive core architecture demo applic...</td>\n",
       "      <td>web app reactive core architecture demo applic...</td>\n",
       "    </tr>\n",
       "    <tr>\n",
       "      <th>2</th>\n",
       "      <td>2</td>\n",
       "      <td>2</td>\n",
       "      <td>fwallacephd/doctor-who</td>\n",
       "      <td>CSS</td>\n",
       "      <td>Notes about open source Doctor Who Project:\\n\\...</td>\n",
       "      <td>notes about open source doctor who project\\n\\n...</td>\n",
       "      <td>notes about open source doctor who project\\n\\n...</td>\n",
       "      <td>note about open sourc doctor who project thi s...</td>\n",
       "      <td>note about open source doctor who project this...</td>\n",
       "      <td>notes open source project site created open so...</td>\n",
       "      <td>notes open source project site created open so...</td>\n",
       "      <td>notes open source project site created open so...</td>\n",
       "      <td>notes open source project site created open so...</td>\n",
       "    </tr>\n",
       "    <tr>\n",
       "      <th>3</th>\n",
       "      <td>3</td>\n",
       "      <td>3</td>\n",
       "      <td>kuralabs/reactive-core-doctor-who-core</td>\n",
       "      <td>JavaScript</td>\n",
       "      <td>==============================================...</td>\n",
       "      <td>\\ndoctor who reactive core  reactive core arch...</td>\n",
       "      <td>doctor who reactive core reactive core archite...</td>\n",
       "      <td>doctor who reactiv core reactiv core architect...</td>\n",
       "      <td>doctor who reactive core reactive core archite...</td>\n",
       "      <td>reactive core reactive core architecture demo ...</td>\n",
       "      <td>reactive core reactive core architecture demo ...</td>\n",
       "      <td>reactive core reactive core architecture demo ...</td>\n",
       "      <td>reactive core reactive core architecture demo ...</td>\n",
       "    </tr>\n",
       "    <tr>\n",
       "      <th>4</th>\n",
       "      <td>4</td>\n",
       "      <td>4</td>\n",
       "      <td>kuralabs/reactive-core-doctor-who-mobile</td>\n",
       "      <td>JavaScript</td>\n",
       "      <td>==============================================...</td>\n",
       "      <td>\\ndoctor who mobile app  reactive core archite...</td>\n",
       "      <td>doctor who mobile app reactive core architectu...</td>\n",
       "      <td>doctor who mobil app reactiv core architectur ...</td>\n",
       "      <td>doctor who mobile app reactive core architectu...</td>\n",
       "      <td>mobile app reactive core architecture demo app...</td>\n",
       "      <td>mobile app reactive core architecture demo app...</td>\n",
       "      <td>mobile app reactive core architecture demo app...</td>\n",
       "      <td>mobile app reactive core architecture demo app...</td>\n",
       "    </tr>\n",
       "  </tbody>\n",
       "</table>\n",
       "</div>"
      ],
      "text/plain": [
       "   Unnamed: 0  Unnamed: 0.1                                      repo  \\\n",
       "0           0             0                  eccentricdevotion/TARDIS   \n",
       "1           1             1     kuralabs/reactive-core-doctor-who-web   \n",
       "2           2             2                    fwallacephd/doctor-who   \n",
       "3           3             3    kuralabs/reactive-core-doctor-who-core   \n",
       "4           4             4  kuralabs/reactive-core-doctor-who-mobile   \n",
       "\n",
       "     language                                    readme_contents  \\\n",
       "0        Java  # TARDIS\\n\\nTARDIS is a Spigot / Paper plugin ...   \n",
       "1  JavaScript  ==============================================...   \n",
       "2         CSS  Notes about open source Doctor Who Project:\\n\\...   \n",
       "3  JavaScript  ==============================================...   \n",
       "4  JavaScript  ==============================================...   \n",
       "\n",
       "                                     cleaned_content  \\\n",
       "0   tardis\\n\\ntardis is a spigot  paper plugin th...   \n",
       "1  \\ndoctor who web app  reactive core architectu...   \n",
       "2  notes about open source doctor who project\\n\\n...   \n",
       "3  \\ndoctor who reactive core  reactive core arch...   \n",
       "4  \\ndoctor who mobile app  reactive core archite...   \n",
       "\n",
       "                                   tokenized_content  \\\n",
       "0  tardis\\n\\ntardis is a spigot paper plugin that...   \n",
       "1  doctor who web app reactive core architecture ...   \n",
       "2  notes about open source doctor who project\\n\\n...   \n",
       "3  doctor who reactive core reactive core archite...   \n",
       "4  doctor who mobile app reactive core architectu...   \n",
       "\n",
       "                                     stemmed_content  \\\n",
       "0  tardi tardi is a spigot paper plugin that allo...   \n",
       "1  doctor who web app reactiv core architectur de...   \n",
       "2  note about open sourc doctor who project thi s...   \n",
       "3  doctor who reactiv core reactiv core architect...   \n",
       "4  doctor who mobil app reactiv core architectur ...   \n",
       "\n",
       "                                       lemma_content  \\\n",
       "0  tardis tardis is a spigot paper plugin that al...   \n",
       "1  doctor who web app reactive core architecture ...   \n",
       "2  note about open source doctor who project this...   \n",
       "3  doctor who reactive core reactive core archite...   \n",
       "4  doctor who mobile app reactive core architectu...   \n",
       "\n",
       "                                   no_stopwords_stem  \\\n",
       "0  spigot paper plugin allows create lets time tr...   \n",
       "1  web app reactive core architecture demo applic...   \n",
       "2  notes open source project site created open so...   \n",
       "3  reactive core reactive core architecture demo ...   \n",
       "4  mobile app reactive core architecture demo app...   \n",
       "\n",
       "                                  no_stopwords_lemma  \\\n",
       "0  spigot paper plugin allows create lets time tr...   \n",
       "1  web app reactive core architecture demo applic...   \n",
       "2  notes open source project site created open so...   \n",
       "3  reactive core reactive core architecture demo ...   \n",
       "4  mobile app reactive core architecture demo app...   \n",
       "\n",
       "                                      all_clean_stem  \\\n",
       "0  spigot paper plugin allows create lets time tr...   \n",
       "1  web app reactive core architecture demo applic...   \n",
       "2  notes open source project site created open so...   \n",
       "3  reactive core reactive core architecture demo ...   \n",
       "4  mobile app reactive core architecture demo app...   \n",
       "\n",
       "                                     all_clean_lemma  \n",
       "0  spigot paper plugin allows create lets time tr...  \n",
       "1  web app reactive core architecture demo applic...  \n",
       "2  notes open source project site created open so...  \n",
       "3  reactive core reactive core architecture demo ...  \n",
       "4  mobile app reactive core architecture demo app...  "
      ]
     },
     "execution_count": 3,
     "metadata": {},
     "output_type": "execute_result"
    }
   ],
   "source": [
    "dw = pd.read_csv('clean_dw.csv')\n",
    "dw.head()"
   ]
  },
  {
   "cell_type": "markdown",
   "metadata": {},
   "source": [
    "# Let's Model!"
   ]
  },
  {
   "cell_type": "code",
   "execution_count": 4,
   "metadata": {},
   "outputs": [],
   "source": [
    "# We'll use this split function later to create in-sample and out-of-sample datasets for modeling\n",
    "def split(df, stratify_by=None):\n",
    "    \"\"\"\n",
    "    3 way split for train, validate, and test datasets\n",
    "    To stratify, send in a column name\n",
    "    \"\"\"\n",
    "    \n",
    "    train, test = train_test_split(df, test_size=.2, random_state=123, stratify=df[stratify_by])\n",
    "    \n",
    "    train, validate = train_test_split(train, test_size=.3, random_state=123, stratify=train[stratify_by])\n",
    "    \n",
    "    return train, validate, test"
   ]
  },
  {
   "cell_type": "code",
   "execution_count": 5,
   "metadata": {},
   "outputs": [],
   "source": [
    "def split_top_4(dw):\n",
    "    '''create the top 4 most used languages\n",
    "    split these into train test and validate'''\n",
    "    # create top 4\n",
    "    top_4_characters = dw.language.value_counts().index[0:4]\n",
    "    top_4 = dw[dw.language.isin(top_4_characters)]\n",
    "    # split into train, validate, test\n",
    "    train, validate, test = split(top_4, 'language')\n",
    "    return train, validate, test"
   ]
  },
  {
   "cell_type": "code",
   "execution_count": 6,
   "metadata": {},
   "outputs": [
    {
     "data": {
      "text/html": [
       "<div>\n",
       "<style scoped>\n",
       "    .dataframe tbody tr th:only-of-type {\n",
       "        vertical-align: middle;\n",
       "    }\n",
       "\n",
       "    .dataframe tbody tr th {\n",
       "        vertical-align: top;\n",
       "    }\n",
       "\n",
       "    .dataframe thead th {\n",
       "        text-align: right;\n",
       "    }\n",
       "</style>\n",
       "<table border=\"1\" class=\"dataframe\">\n",
       "  <thead>\n",
       "    <tr style=\"text-align: right;\">\n",
       "      <th></th>\n",
       "      <th>Unnamed: 0</th>\n",
       "      <th>Unnamed: 0.1</th>\n",
       "      <th>repo</th>\n",
       "      <th>language</th>\n",
       "      <th>readme_contents</th>\n",
       "      <th>cleaned_content</th>\n",
       "      <th>tokenized_content</th>\n",
       "      <th>stemmed_content</th>\n",
       "      <th>lemma_content</th>\n",
       "      <th>no_stopwords_stem</th>\n",
       "      <th>no_stopwords_lemma</th>\n",
       "      <th>all_clean_stem</th>\n",
       "      <th>all_clean_lemma</th>\n",
       "    </tr>\n",
       "  </thead>\n",
       "  <tbody>\n",
       "    <tr>\n",
       "      <th>21</th>\n",
       "      <td>24</td>\n",
       "      <td>24</td>\n",
       "      <td>MCS-Kaijin/WhoScript</td>\n",
       "      <td>Python</td>\n",
       "      <td># WhoScript\\nDoctor Who-themed esoteric progra...</td>\n",
       "      <td>whoscript\\ndoctor whothemed esoteric programm...</td>\n",
       "      <td>whoscript\\ndoctor whothemed esoteric programmi...</td>\n",
       "      <td>whoscript doctor whothem esoter program langua...</td>\n",
       "      <td>whoscript doctor whothemed esoteric programmin...</td>\n",
       "      <td>whoscript whothemed esoteric programming langu...</td>\n",
       "      <td>whoscript whothemed esoteric programming langu...</td>\n",
       "      <td>whoscript whothemed esoteric programming langu...</td>\n",
       "      <td>whoscript whothemed esoteric programming langu...</td>\n",
       "    </tr>\n",
       "    <tr>\n",
       "      <th>58</th>\n",
       "      <td>114</td>\n",
       "      <td>114</td>\n",
       "      <td>mollytb/DoctorWhoNoDoubleClick</td>\n",
       "      <td>JavaScript</td>\n",
       "      <td>This project was bootstrapped with [Create Rea...</td>\n",
       "      <td>this project was bootstrapped with create reac...</td>\n",
       "      <td>this project was bootstrapped with create reac...</td>\n",
       "      <td>thi project wa bootstrap with creat react apph...</td>\n",
       "      <td>this project wa bootstrapped with create react...</td>\n",
       "      <td>project bootstrapped create react apphttpsgith...</td>\n",
       "      <td>project bootstrapped create react apphttpsgith...</td>\n",
       "      <td>project bootstrapped create react apphttpsgith...</td>\n",
       "      <td>project bootstrapped create react apphttpsgith...</td>\n",
       "    </tr>\n",
       "    <tr>\n",
       "      <th>84</th>\n",
       "      <td>194</td>\n",
       "      <td>194</td>\n",
       "      <td>Splodge97/DoctorWhoClubPenguinTresureHunt</td>\n",
       "      <td>HTML</td>\n",
       "      <td># DoctorWhoClubPenguinTresureHunt\\nDoctor Who ...</td>\n",
       "      <td>doctorwhoclubpenguintresurehunt\\ndoctor who t...</td>\n",
       "      <td>doctorwhoclubpenguintresurehunt\\ndoctor who th...</td>\n",
       "      <td>doctorwhoclubpenguintresurehunt doctor who the...</td>\n",
       "      <td>doctorwhoclubpenguintresurehunt doctor who the...</td>\n",
       "      <td>doctorwhoclubpenguintresurehunt themed treasur...</td>\n",
       "      <td>doctorwhoclubpenguintresurehunt themed treasur...</td>\n",
       "      <td>doctorwhoclubpenguintresurehunt themed treasur...</td>\n",
       "      <td>doctorwhoclubpenguintresurehunt themed treasur...</td>\n",
       "    </tr>\n",
       "    <tr>\n",
       "      <th>70</th>\n",
       "      <td>142</td>\n",
       "      <td>142</td>\n",
       "      <td>aseitz94/TriviaGame</td>\n",
       "      <td>HTML</td>\n",
       "      <td># TriviaGame\\nDoctor Who Basic Trivia Game usi...</td>\n",
       "      <td>triviagame\\ndoctor who basic trivia game usin...</td>\n",
       "      <td>triviagame\\ndoctor who basic trivia game using...</td>\n",
       "      <td>triviagam doctor who basic trivia game use my ...</td>\n",
       "      <td>triviagame doctor who basic trivia game using ...</td>\n",
       "      <td>triviagame basic trivia game using current kno...</td>\n",
       "      <td>triviagame basic trivia game using current kno...</td>\n",
       "      <td>triviagame basic trivia game using current kno...</td>\n",
       "      <td>triviagame basic trivia game using current kno...</td>\n",
       "    </tr>\n",
       "    <tr>\n",
       "      <th>69</th>\n",
       "      <td>140</td>\n",
       "      <td>140</td>\n",
       "      <td>frabcus/kill-the-moon</td>\n",
       "      <td>Python</td>\n",
       "      <td>\"Kill the Moon\" electricity use\\n=============...</td>\n",
       "      <td>kill the moon electricity use\\n\\n\\nwarning con...</td>\n",
       "      <td>kill the moon electricity use\\n\\n\\nwarning con...</td>\n",
       "      <td>kill the moon electr use warn contain spoiler ...</td>\n",
       "      <td>kill the moon electricity use warning contains...</td>\n",
       "      <td>kill moon electricity warning contains spoiler...</td>\n",
       "      <td>kill moon electricity warning contains spoiler...</td>\n",
       "      <td>kill moon electricity warning contains spoiler...</td>\n",
       "      <td>kill moon electricity warning contains spoiler...</td>\n",
       "    </tr>\n",
       "  </tbody>\n",
       "</table>\n",
       "</div>"
      ],
      "text/plain": [
       "    Unnamed: 0  Unnamed: 0.1                                       repo  \\\n",
       "21          24            24                       MCS-Kaijin/WhoScript   \n",
       "58         114           114             mollytb/DoctorWhoNoDoubleClick   \n",
       "84         194           194  Splodge97/DoctorWhoClubPenguinTresureHunt   \n",
       "70         142           142                        aseitz94/TriviaGame   \n",
       "69         140           140                      frabcus/kill-the-moon   \n",
       "\n",
       "      language                                    readme_contents  \\\n",
       "21      Python  # WhoScript\\nDoctor Who-themed esoteric progra...   \n",
       "58  JavaScript  This project was bootstrapped with [Create Rea...   \n",
       "84        HTML  # DoctorWhoClubPenguinTresureHunt\\nDoctor Who ...   \n",
       "70        HTML  # TriviaGame\\nDoctor Who Basic Trivia Game usi...   \n",
       "69      Python  \"Kill the Moon\" electricity use\\n=============...   \n",
       "\n",
       "                                      cleaned_content  \\\n",
       "21   whoscript\\ndoctor whothemed esoteric programm...   \n",
       "58  this project was bootstrapped with create reac...   \n",
       "84   doctorwhoclubpenguintresurehunt\\ndoctor who t...   \n",
       "70   triviagame\\ndoctor who basic trivia game usin...   \n",
       "69  kill the moon electricity use\\n\\n\\nwarning con...   \n",
       "\n",
       "                                    tokenized_content  \\\n",
       "21  whoscript\\ndoctor whothemed esoteric programmi...   \n",
       "58  this project was bootstrapped with create reac...   \n",
       "84  doctorwhoclubpenguintresurehunt\\ndoctor who th...   \n",
       "70  triviagame\\ndoctor who basic trivia game using...   \n",
       "69  kill the moon electricity use\\n\\n\\nwarning con...   \n",
       "\n",
       "                                      stemmed_content  \\\n",
       "21  whoscript doctor whothem esoter program langua...   \n",
       "58  thi project wa bootstrap with creat react apph...   \n",
       "84  doctorwhoclubpenguintresurehunt doctor who the...   \n",
       "70  triviagam doctor who basic trivia game use my ...   \n",
       "69  kill the moon electr use warn contain spoiler ...   \n",
       "\n",
       "                                        lemma_content  \\\n",
       "21  whoscript doctor whothemed esoteric programmin...   \n",
       "58  this project wa bootstrapped with create react...   \n",
       "84  doctorwhoclubpenguintresurehunt doctor who the...   \n",
       "70  triviagame doctor who basic trivia game using ...   \n",
       "69  kill the moon electricity use warning contains...   \n",
       "\n",
       "                                    no_stopwords_stem  \\\n",
       "21  whoscript whothemed esoteric programming langu...   \n",
       "58  project bootstrapped create react apphttpsgith...   \n",
       "84  doctorwhoclubpenguintresurehunt themed treasur...   \n",
       "70  triviagame basic trivia game using current kno...   \n",
       "69  kill moon electricity warning contains spoiler...   \n",
       "\n",
       "                                   no_stopwords_lemma  \\\n",
       "21  whoscript whothemed esoteric programming langu...   \n",
       "58  project bootstrapped create react apphttpsgith...   \n",
       "84  doctorwhoclubpenguintresurehunt themed treasur...   \n",
       "70  triviagame basic trivia game using current kno...   \n",
       "69  kill moon electricity warning contains spoiler...   \n",
       "\n",
       "                                       all_clean_stem  \\\n",
       "21  whoscript whothemed esoteric programming langu...   \n",
       "58  project bootstrapped create react apphttpsgith...   \n",
       "84  doctorwhoclubpenguintresurehunt themed treasur...   \n",
       "70  triviagame basic trivia game using current kno...   \n",
       "69  kill moon electricity warning contains spoiler...   \n",
       "\n",
       "                                      all_clean_lemma  \n",
       "21  whoscript whothemed esoteric programming langu...  \n",
       "58  project bootstrapped create react apphttpsgith...  \n",
       "84  doctorwhoclubpenguintresurehunt themed treasur...  \n",
       "70  triviagame basic trivia game using current kno...  \n",
       "69  kill moon electricity warning contains spoiler...  "
      ]
     },
     "execution_count": 6,
     "metadata": {},
     "output_type": "execute_result"
    }
   ],
   "source": [
    "train, validate, test = split_top_4(dw)\n",
    "train.head()"
   ]
  },
  {
   "cell_type": "code",
   "execution_count": 7,
   "metadata": {},
   "outputs": [
    {
     "data": {
      "text/plain": [
       "21    whoscript whothemed esoteric programming langu...\n",
       "58    project bootstrapped create react apphttpsgith...\n",
       "84    doctorwhoclubpenguintresurehunt themed treasur...\n",
       "70    triviagame basic trivia game using current kno...\n",
       "69    kill moon electricity warning contains spoiler...\n",
       "Name: all_clean_lemma, dtype: object"
      ]
     },
     "execution_count": 7,
     "metadata": {},
     "output_type": "execute_result"
    }
   ],
   "source": [
    "def split_into_x_y(train, validate, test):\n",
    "    '''seperates train, validate, and test\n",
    "    into X and y variables'''\n",
    "    # Setup our X variables\n",
    "    X_train = train.all_clean_lemma\n",
    "    X_validate = validate.all_clean_lemma\n",
    "    X_test = test.all_clean_lemma\n",
    "    # set up our y variables\n",
    "    y_train = train.language\n",
    "    y_validate = validate.language\n",
    "    y_test = test.language\n",
    "    # return them\n",
    "    return X_train, X_validate, X_test, y_train, y_validate, y_test\n",
    "\n",
    "X_train, X_validate, X_test, y_train, y_validate, y_test = split_into_x_y(train, validate, test)\n",
    "X_train.head()"
   ]
  },
  {
   "cell_type": "code",
   "execution_count": 8,
   "metadata": {},
   "outputs": [
    {
     "data": {
      "text/plain": [
       "21        Python\n",
       "58    JavaScript\n",
       "84          HTML\n",
       "70          HTML\n",
       "69        Python\n",
       "Name: language, dtype: object"
      ]
     },
     "execution_count": 8,
     "metadata": {},
     "output_type": "execute_result"
    }
   ],
   "source": [
    "y_train.head()"
   ]
  },
  {
   "cell_type": "code",
   "execution_count": 9,
   "metadata": {},
   "outputs": [],
   "source": [
    "def vectorize_training(X_train, X_validate, X_test):\n",
    "    # Create the tfidf vectorizer object\n",
    "    tfidf = TfidfVectorizer()\n",
    "    # Fit on the training data\n",
    "    tfidf.fit(X_train)\n",
    "    # the the training data\n",
    "    X_train_vectorized = tfidf.transform(X_train)\n",
    "    X_validate_vectorized = tfidf.transform(X_validate)\n",
    "    X_test_vectorized = tfidf.transform(X_test)\n",
    "    # return them\n",
    "    return X_train_vectorized, X_validate_vectorized, X_test_vectorized\n",
    "X_train_vectorized, X_validate_vectorized, X_test_vectorized = vectorize_training(X_train, X_validate, X_test)"
   ]
  },
  {
   "cell_type": "code",
   "execution_count": 10,
   "metadata": {},
   "outputs": [
    {
     "data": {
      "text/plain": [
       "(44, 3503)"
      ]
     },
     "execution_count": 10,
     "metadata": {},
     "output_type": "execute_result"
    }
   ],
   "source": [
    "X_train_vectorized.todense().shape\n",
    "# so pretty much every single word has a column"
   ]
  },
  {
   "cell_type": "markdown",
   "metadata": {},
   "source": [
    "# Logistic Regression Model"
   ]
  },
  {
   "cell_type": "code",
   "execution_count": 11,
   "metadata": {},
   "outputs": [
    {
     "data": {
      "text/plain": [
       "LogisticRegression(random_state=123)"
      ]
     },
     "execution_count": 11,
     "metadata": {},
     "output_type": "execute_result"
    }
   ],
   "source": [
    "lm = LogisticRegression(random_state=123)\n",
    "# Fit a model using only these specified features\n",
    "# logit.fit(X_train[[\"age\", \"pclass\", \"fare\"]], y_train)\n",
    "lm.fit(X_train_vectorized, y_train)"
   ]
  },
  {
   "cell_type": "code",
   "execution_count": 12,
   "metadata": {},
   "outputs": [],
   "source": [
    "# make the actual outcomes\n",
    "train = pd.DataFrame(dict(actual=y_train))\n",
    "validate = pd.DataFrame(dict(actual=y_validate))\n",
    "test = pd.DataFrame(dict(actual=y_test))"
   ]
  },
  {
   "cell_type": "code",
   "execution_count": 13,
   "metadata": {},
   "outputs": [],
   "source": [
    "# make your predictions\n",
    "train['predicted'] = lm.predict(X_train_vectorized)\n",
    "validate[\"predicted\"] = lm.predict(X_validate_vectorized)\n",
    "test['predicted'] = lm.predict(X_test_vectorized)"
   ]
  },
  {
   "cell_type": "code",
   "execution_count": 14,
   "metadata": {},
   "outputs": [],
   "source": [
    "# Train Accuracy\n",
    "logit_trian = (train.actual == train.predicted).mean()"
   ]
  },
  {
   "cell_type": "code",
   "execution_count": 15,
   "metadata": {},
   "outputs": [],
   "source": [
    "# Validate Accuracy\n",
    "    # AKA Out of Sample Accuracy\n",
    "logit_validate = (validate.actual == validate.predicted).mean()"
   ]
  },
  {
   "cell_type": "code",
   "execution_count": 16,
   "metadata": {},
   "outputs": [
    {
     "name": "stdout",
     "output_type": "stream",
     "text": [
      "The accuracy on the train data set is: \n",
      " 0.955\n",
      "The accuracy on the validate data set is: \n",
      " 0.421\n"
     ]
    }
   ],
   "source": [
    "def logistic_regression(y_train, y_validate, y_test, X_train_vectorized, X_validate_vectorized, X_test_vectorized):\n",
    "    '''makes the model\n",
    "    fit the model\n",
    "    make actual and predicted outcomes\n",
    "    test accuracy on train and validate\n",
    "    return the accuracy readings'''\n",
    "    lm = LogisticRegression(random_state=123)\n",
    "    # Fit a model using only these specified features\n",
    "    lm.fit(X_train_vectorized, y_train)\n",
    "    # make the actual outcomes\n",
    "    train = pd.DataFrame(dict(actual=y_train))\n",
    "    validate = pd.DataFrame(dict(actual=y_validate))\n",
    "    test = pd.DataFrame(dict(actual=y_test))\n",
    "    # make your predictions\n",
    "    train['predicted'] = lm.predict(X_train_vectorized)\n",
    "    validate[\"predicted\"] = lm.predict(X_validate_vectorized)\n",
    "    test['predicted'] = lm.predict(X_test_vectorized)\n",
    "    # Train Accuracy\n",
    "    train = (train.actual == train.predicted).mean()\n",
    "    # Validate Accuracy\n",
    "    validate = (validate.actual == validate.predicted).mean()\n",
    "    print(f\"The accuracy on the train data set is: \\n\", round(train,3))\n",
    "    print(f\"The accuracy on the validate data set is: \\n\", round(validate,3))\n",
    "logistic_regression(y_train, y_validate, y_test, X_train_vectorized, X_validate_vectorized, X_test_vectorized)"
   ]
  },
  {
   "cell_type": "markdown",
   "metadata": {},
   "source": [
    "- HOLY BAD VALIDATE RUN BATMAN"
   ]
  },
  {
   "cell_type": "markdown",
   "metadata": {},
   "source": [
    "___"
   ]
  },
  {
   "cell_type": "markdown",
   "metadata": {},
   "source": [
    "# Balanced Logistic Regression Model"
   ]
  },
  {
   "cell_type": "code",
   "execution_count": 17,
   "metadata": {},
   "outputs": [
    {
     "data": {
      "text/plain": [
       "LogisticRegression(class_weight='balanced', random_state=123)"
      ]
     },
     "execution_count": 17,
     "metadata": {},
     "output_type": "execute_result"
    }
   ],
   "source": [
    "lm2 = LogisticRegression(random_state=123, class_weight='balanced')\n",
    "# Fit a model using only these specified features\n",
    "# logit.fit(X_train[[\"age\", \"pclass\", \"fare\"]], y_train)\n",
    "lm2.fit(X_train_vectorized, y_train)"
   ]
  },
  {
   "cell_type": "code",
   "execution_count": 18,
   "metadata": {},
   "outputs": [],
   "source": [
    "# make the actual outcomes\n",
    "train = pd.DataFrame(dict(actual=y_train))\n",
    "validate = pd.DataFrame(dict(actual=y_validate))\n",
    "test = pd.DataFrame(dict(actual=y_test))\n",
    "# make your predictions\n",
    "train['predicted'] = lm2.predict(X_train_vectorized)\n",
    "validate[\"predicted\"] = lm2.predict(X_validate_vectorized)\n",
    "test['predicted'] = lm2.predict(X_test_vectorized)"
   ]
  },
  {
   "cell_type": "code",
   "execution_count": 19,
   "metadata": {},
   "outputs": [
    {
     "name": "stdout",
     "output_type": "stream",
     "text": [
      "The accuracy on the train data set is: \n",
      " 0.977\n"
     ]
    }
   ],
   "source": [
    "logit2_train = lm2.score(X_train_vectorized, y_train)\n",
    "print(f\"The accuracy on the train data set is: \\n\", round(logit2_train,3))  "
   ]
  },
  {
   "cell_type": "code",
   "execution_count": 20,
   "metadata": {},
   "outputs": [
    {
     "name": "stdout",
     "output_type": "stream",
     "text": [
      "The accuracy on the validate data set is: \n",
      " 0.526\n"
     ]
    }
   ],
   "source": [
    "logit2_validate = lm2.score(X_validate_vectorized, y_validate)\n",
    "print(f\"The accuracy on the validate data set is: \\n\", round(logit2_validate,3))"
   ]
  },
  {
   "cell_type": "code",
   "execution_count": 21,
   "metadata": {},
   "outputs": [
    {
     "name": "stdout",
     "output_type": "stream",
     "text": [
      "The accuracy on the train data set is: \n",
      " 0.977\n",
      "The accuracy on the validate data set is: \n",
      " 0.526\n"
     ]
    }
   ],
   "source": [
    "def balanced_log_regression(y_train, y_validate, y_test, X_train_vectorized, X_validate_vectorized, X_test_vectorized):\n",
    "    '''makes the model\n",
    "    fit the model\n",
    "    make actual and predicted outcomes\n",
    "    test accuracy on train and validate\n",
    "    return the accuracy readings'''\n",
    "    lm2 = LogisticRegression(random_state=123, class_weight='balanced')\n",
    "    # Fit a model using only these specified features\n",
    "    lm2.fit(X_train_vectorized, y_train)\n",
    "    # make the actual outcomes\n",
    "    train = pd.DataFrame(dict(actual=y_train))\n",
    "    validate = pd.DataFrame(dict(actual=y_validate))\n",
    "    test = pd.DataFrame(dict(actual=y_test))\n",
    "    # make your predictions\n",
    "    train['predicted'] = lm2.predict(X_train_vectorized)\n",
    "    validate[\"predicted\"] = lm2.predict(X_validate_vectorized)\n",
    "    test['predicted'] = lm2.predict(X_test_vectorized)\n",
    "    # Train Accuracy\n",
    "    train = lm2.score(X_train_vectorized, y_train)\n",
    "    # Validate Accuracy\n",
    "    validate = lm2.score(X_validate_vectorized, y_validate)\n",
    "    print(f\"The accuracy on the train data set is: \\n\", round(train,3))\n",
    "    print(f\"The accuracy on the validate data set is: \\n\", round(validate,3))\n",
    "balanced_log_regression(y_train, y_validate, y_test, X_train_vectorized, X_validate_vectorized, X_test_vectorized)"
   ]
  },
  {
   "cell_type": "markdown",
   "metadata": {},
   "source": [
    "- Once again not the best run on validate"
   ]
  },
  {
   "cell_type": "markdown",
   "metadata": {},
   "source": [
    "___"
   ]
  },
  {
   "cell_type": "markdown",
   "metadata": {},
   "source": [
    "# KNN Model"
   ]
  },
  {
   "cell_type": "code",
   "execution_count": 22,
   "metadata": {},
   "outputs": [
    {
     "data": {
      "text/plain": [
       "KNeighborsClassifier()"
      ]
     },
     "execution_count": 22,
     "metadata": {},
     "output_type": "execute_result"
    }
   ],
   "source": [
    "knn = KNeighborsClassifier()\n",
    "# Fit a model using only these specified features\n",
    "knn.fit(X_train_vectorized, y_train)"
   ]
  },
  {
   "cell_type": "code",
   "execution_count": 23,
   "metadata": {},
   "outputs": [],
   "source": [
    "# make the actual outcomes\n",
    "train = pd.DataFrame(dict(actual=y_train))\n",
    "validate = pd.DataFrame(dict(actual=y_validate))\n",
    "test = pd.DataFrame(dict(actual=y_test))\n",
    "# make your predictions\n",
    "train['predicted'] = knn.predict(X_train_vectorized)\n",
    "validate[\"predicted\"] = knn.predict(X_validate_vectorized)\n",
    "test['predicted'] = knn.predict(X_test_vectorized)"
   ]
  },
  {
   "cell_type": "code",
   "execution_count": 24,
   "metadata": {},
   "outputs": [
    {
     "data": {
      "text/plain": [
       "(0.5681818181818182, 0.5789473684210527)"
      ]
     },
     "execution_count": 24,
     "metadata": {},
     "output_type": "execute_result"
    }
   ],
   "source": [
    "knn_train = knn.score(X_train_vectorized, y_train)\n",
    "knn_validate = knn.score(X_validate_vectorized, y_validate)\n",
    "knn_train, knn_validate"
   ]
  },
  {
   "cell_type": "code",
   "execution_count": 25,
   "metadata": {},
   "outputs": [
    {
     "name": "stdout",
     "output_type": "stream",
     "text": [
      "The accuracy on the train data set is: \n",
      " 0.568\n",
      "The accuracy on the validate data set is: \n",
      " 0.579\n"
     ]
    }
   ],
   "source": [
    "def knn_model(y_train, y_validate, y_test, X_train_vectorized, X_validate_vectorized, X_test_vectorized):\n",
    "    '''makes the model\n",
    "    fit the model\n",
    "    make actual and predicted outcomes\n",
    "    test accuracy on train and validate\n",
    "    return the accuracy readings'''\n",
    "    knn = KNeighborsClassifier()\n",
    "    # Fit a model using only these specified features\n",
    "    knn.fit(X_train_vectorized, y_train)\n",
    "    # make the actual outcomes\n",
    "    train = pd.DataFrame(dict(actual=y_train))\n",
    "    validate = pd.DataFrame(dict(actual=y_validate))\n",
    "    test = pd.DataFrame(dict(actual=y_test))\n",
    "    # make your predictions\n",
    "    train['predicted'] = knn.predict(X_train_vectorized)\n",
    "    validate[\"predicted\"] = knn.predict(X_validate_vectorized)\n",
    "    test['predicted'] = knn.predict(X_test_vectorized)\n",
    "    # train accuracy\n",
    "    train = knn.score(X_train_vectorized, y_train)\n",
    "    # validate accuracy\n",
    "    validate = knn.score(X_validate_vectorized, y_validate)\n",
    "    print(f\"The accuracy on the train data set is: \\n\", round(train,3))\n",
    "    print(f\"The accuracy on the validate data set is: \\n\", round(validate,3))\n",
    "knn_model(y_train, y_validate, y_test, X_train_vectorized, X_validate_vectorized, X_test_vectorized)"
   ]
  },
  {
   "cell_type": "markdown",
   "metadata": {},
   "source": [
    "- Still bad"
   ]
  },
  {
   "cell_type": "markdown",
   "metadata": {},
   "source": [
    "___"
   ]
  },
  {
   "cell_type": "markdown",
   "metadata": {},
   "source": [
    "# Decision Tree"
   ]
  },
  {
   "cell_type": "code",
   "execution_count": 26,
   "metadata": {},
   "outputs": [
    {
     "data": {
      "text/plain": [
       "DecisionTreeClassifier(max_depth=3)"
      ]
     },
     "execution_count": 26,
     "metadata": {},
     "output_type": "execute_result"
    }
   ],
   "source": [
    "clf1 = DecisionTreeClassifier(max_depth=3)\n",
    "# Fit a model using only these specified features\n",
    "clf1.fit(X_train_vectorized, y_train)"
   ]
  },
  {
   "cell_type": "code",
   "execution_count": 27,
   "metadata": {},
   "outputs": [],
   "source": [
    "# make the actual outcomes\n",
    "train = pd.DataFrame(dict(actual=y_train))\n",
    "validate = pd.DataFrame(dict(actual=y_validate))\n",
    "test = pd.DataFrame(dict(actual=y_test))\n",
    "# make your predictions\n",
    "train['predicted'] = clf1.predict(X_train_vectorized)\n",
    "validate[\"predicted\"] = clf1.predict(X_validate_vectorized)\n",
    "test['predicted'] = clf1.predict(X_test_vectorized)"
   ]
  },
  {
   "cell_type": "code",
   "execution_count": 28,
   "metadata": {},
   "outputs": [
    {
     "data": {
      "text/plain": [
       "(0.5227272727272727, 0.3684210526315789)"
      ]
     },
     "execution_count": 28,
     "metadata": {},
     "output_type": "execute_result"
    }
   ],
   "source": [
    "dc_train = clf1.score(X_train_vectorized, y_train)\n",
    "dc_validate = clf1.score(X_validate_vectorized, y_validate)\n",
    "dc_train, dc_validate"
   ]
  },
  {
   "cell_type": "code",
   "execution_count": 29,
   "metadata": {},
   "outputs": [
    {
     "name": "stdout",
     "output_type": "stream",
     "text": [
      "The accuracy on the train data set is: \n",
      " 0.523\n",
      "The accuracy on the validate data set is: \n",
      " 0.316\n"
     ]
    }
   ],
   "source": [
    "def decision_tree_model(y_train, y_validate, y_test, X_train_vectorized, X_validate_vectorized, X_test_vectorized):\n",
    "    '''makes the model\n",
    "    fit the model\n",
    "    make actual and predicted outcomes\n",
    "    test accuracy on train and validate\n",
    "    return the accuracy readings'''\n",
    "    clf1 = DecisionTreeClassifier(max_depth=3)\n",
    "    # Fit a model using only these specified features\n",
    "    clf1.fit(X_train_vectorized, y_train)\n",
    "    # make the actual outcomes\n",
    "    train = pd.DataFrame(dict(actual=y_train))\n",
    "    validate = pd.DataFrame(dict(actual=y_validate))\n",
    "    test = pd.DataFrame(dict(actual=y_test))\n",
    "    # make your predictions\n",
    "    train['predicted'] = clf1.predict(X_train_vectorized)\n",
    "    validate[\"predicted\"] = clf1.predict(X_validate_vectorized)\n",
    "    test['predicted'] = clf1.predict(X_test_vectorized)\n",
    "    # train accuracy\n",
    "    train = clf1.score(X_train_vectorized, y_train)\n",
    "    # validate accuracy\n",
    "    validate = clf1.score(X_validate_vectorized, y_validate)\n",
    "    print(f\"The accuracy on the train data set is: \\n\", round(train,3))\n",
    "    print(f\"The accuracy on the validate data set is: \\n\", round(validate,3))\n",
    "decision_tree_model(y_train, y_validate, y_test, X_train_vectorized, X_validate_vectorized, X_test_vectorized)"
   ]
  },
  {
   "cell_type": "markdown",
   "metadata": {},
   "source": [
    "- Still not great"
   ]
  },
  {
   "cell_type": "markdown",
   "metadata": {},
   "source": [
    "___"
   ]
  },
  {
   "cell_type": "markdown",
   "metadata": {},
   "source": [
    "# Random Forest Classifier"
   ]
  },
  {
   "cell_type": "code",
   "execution_count": 30,
   "metadata": {},
   "outputs": [
    {
     "data": {
      "text/plain": [
       "RandomForestClassifier(max_depth=3, min_samples_leaf=3, random_state=123)"
      ]
     },
     "execution_count": 30,
     "metadata": {},
     "output_type": "execute_result"
    }
   ],
   "source": [
    "rf = RandomForestClassifier(bootstrap=True, \n",
    "                            class_weight=None, \n",
    "                            criterion='gini',\n",
    "                            min_samples_leaf=3,\n",
    "                            n_estimators=100,\n",
    "                            max_depth=3, \n",
    "                            random_state=123)\n",
    "# Fit a model using only these specified features\n",
    "rf.fit(X_train_vectorized, y_train)"
   ]
  },
  {
   "cell_type": "code",
   "execution_count": 31,
   "metadata": {},
   "outputs": [],
   "source": [
    "# make the actual outcomes\n",
    "train = pd.DataFrame(dict(actual=y_train))\n",
    "validate = pd.DataFrame(dict(actual=y_validate))\n",
    "test = pd.DataFrame(dict(actual=y_test))\n",
    "# make your predictions\n",
    "train['predicted'] = rf.predict(X_train_vectorized)\n",
    "validate[\"predicted\"] = rf.predict(X_validate_vectorized)\n",
    "test['predicted'] = rf.predict(X_test_vectorized)"
   ]
  },
  {
   "cell_type": "code",
   "execution_count": 32,
   "metadata": {},
   "outputs": [
    {
     "data": {
      "text/plain": [
       "(0.4318181818181818, 0.42105263157894735)"
      ]
     },
     "execution_count": 32,
     "metadata": {},
     "output_type": "execute_result"
    }
   ],
   "source": [
    "rf_train = rf.score(X_train_vectorized, y_train)\n",
    "rf_validate = rf.score(X_validate_vectorized, y_validate)\n",
    "rf_train, rf_validate"
   ]
  },
  {
   "cell_type": "code",
   "execution_count": 33,
   "metadata": {},
   "outputs": [
    {
     "name": "stdout",
     "output_type": "stream",
     "text": [
      "The accuracy on the train data set is: \n",
      " 0.432\n",
      "The accuracy on the validate data set is: \n",
      " 0.421\n"
     ]
    }
   ],
   "source": [
    "def random_forest_model(y_train, y_validate, y_test, X_train_vectorized, X_validate_vectorized, X_test_vectorized):\n",
    "    rf = RandomForestClassifier(bootstrap=True, \n",
    "                                class_weight=None, \n",
    "                                criterion='gini',\n",
    "                                min_samples_leaf=3,\n",
    "                                n_estimators=100,\n",
    "                                max_depth=3, \n",
    "                                random_state=123)\n",
    "    # Fit a model using only these specified features\n",
    "    rf.fit(X_train_vectorized, y_train)\n",
    "    # make the actual outcomes\n",
    "    train = pd.DataFrame(dict(actual=y_train))\n",
    "    validate = pd.DataFrame(dict(actual=y_validate))\n",
    "    test = pd.DataFrame(dict(actual=y_test))\n",
    "    # make your predictions\n",
    "    train['predicted'] = rf.predict(X_train_vectorized)\n",
    "    validate[\"predicted\"] = rf.predict(X_validate_vectorized)\n",
    "    test['predicted'] = rf.predict(X_test_vectorized)\n",
    "    # train accuracy\n",
    "    train = rf.score(X_train_vectorized, y_train)\n",
    "    # validate_accuracy\n",
    "    validate = rf.score(X_validate_vectorized, y_validate)\n",
    "    print(f\"The accuracy on the train data set is: \\n\", round(train,3))\n",
    "    print(f\"The accuracy on the validate data set is: \\n\", round(validate,3))\n",
    "random_forest_model(y_train, y_validate, y_test, X_train_vectorized, X_validate_vectorized, X_test_vectorized)\n"
   ]
  },
  {
   "cell_type": "markdown",
   "metadata": {},
   "source": [
    "___"
   ]
  },
  {
   "cell_type": "markdown",
   "metadata": {},
   "source": [
    "# Ridge Classifier Model"
   ]
  },
  {
   "cell_type": "code",
   "execution_count": 34,
   "metadata": {},
   "outputs": [
    {
     "data": {
      "text/plain": [
       "RidgeClassifier(random_state=123)"
      ]
     },
     "execution_count": 34,
     "metadata": {},
     "output_type": "execute_result"
    }
   ],
   "source": [
    "clf2 = RidgeClassifier(random_state=123)\n",
    "# Fit a model using only these specified features\n",
    "# logit.fit(X_train[[\"age\", \"pclass\", \"fare\"]], y_train)\n",
    "clf2.fit(X_train_vectorized, y_train)"
   ]
  },
  {
   "cell_type": "code",
   "execution_count": 35,
   "metadata": {},
   "outputs": [],
   "source": [
    "# make the actual outcomes\n",
    "train = pd.DataFrame(dict(actual=y_train))\n",
    "validate = pd.DataFrame(dict(actual=y_validate))\n",
    "test = pd.DataFrame(dict(actual=y_test))\n",
    "# make your predictions\n",
    "train['predicted'] = clf2.predict(X_train_vectorized)\n",
    "validate[\"predicted\"] = clf2.predict(X_validate_vectorized)\n",
    "test['predicted'] = clf2.predict(X_test_vectorized)"
   ]
  },
  {
   "cell_type": "code",
   "execution_count": 36,
   "metadata": {},
   "outputs": [
    {
     "data": {
      "text/plain": [
       "(0.9772727272727273, 0.47368421052631576)"
      ]
     },
     "execution_count": 36,
     "metadata": {},
     "output_type": "execute_result"
    }
   ],
   "source": [
    "ridge_train = clf2.score(X_train_vectorized, y_train)\n",
    "ridge_validate = clf2.score(X_validate_vectorized, y_validate)\n",
    "ridge_train, ridge_validate"
   ]
  },
  {
   "cell_type": "code",
   "execution_count": 37,
   "metadata": {},
   "outputs": [
    {
     "name": "stdout",
     "output_type": "stream",
     "text": [
      "The accuracy on the train data set is: \n",
      " 0.523\n",
      "The accuracy on the validate data set is: \n",
      " 0.368\n"
     ]
    }
   ],
   "source": [
    "def ridge_class_model(y_train, y_validate, y_test, X_train_vectorized, X_validate_vectorized, X_test_vectorized):\n",
    "    '''makes the model\n",
    "    fit the model\n",
    "    make actual and predicted outcomes\n",
    "    test accuracy on train and validate\n",
    "    return the accuracy readings'''\n",
    "    clf2 = DecisionTreeClassifier(max_depth=3)\n",
    "    # Fit a model using only these specified features\n",
    "    clf2.fit(X_train_vectorized, y_train)\n",
    "    # make the actual outcomes\n",
    "    train = pd.DataFrame(dict(actual=y_train))\n",
    "    validate = pd.DataFrame(dict(actual=y_validate))\n",
    "    test = pd.DataFrame(dict(actual=y_test))\n",
    "    # make your predictions\n",
    "    train['predicted'] = clf2.predict(X_train_vectorized)\n",
    "    validate[\"predicted\"] = clf2.predict(X_validate_vectorized)\n",
    "    test['predicted'] = clf2.predict(X_test_vectorized)\n",
    "    # train accuracy\n",
    "    train = clf2.score(X_train_vectorized, y_train)\n",
    "    # validate accuracy\n",
    "    validate = clf2.score(X_validate_vectorized, y_validate)\n",
    "    print(f\"The accuracy on the train data set is: \\n\", round(train,3))\n",
    "    print(f\"The accuracy on the validate data set is: \\n\", round(validate,3))\n",
    "ridge_class_model(y_train, y_validate, y_test, X_train_vectorized, X_validate_vectorized, X_test_vectorized)"
   ]
  },
  {
   "cell_type": "markdown",
   "metadata": {},
   "source": [
    "- still not great"
   ]
  },
  {
   "cell_type": "markdown",
   "metadata": {},
   "source": [
    "___"
   ]
  },
  {
   "cell_type": "markdown",
   "metadata": {},
   "source": [
    "# SGDClassifier Model"
   ]
  },
  {
   "cell_type": "code",
   "execution_count": 38,
   "metadata": {},
   "outputs": [
    {
     "data": {
      "text/plain": [
       "SGDClassifier(random_state=123)"
      ]
     },
     "execution_count": 38,
     "metadata": {},
     "output_type": "execute_result"
    }
   ],
   "source": [
    "clf3 = SGDClassifier(max_iter=1000, tol=1e-3, random_state=123)\n",
    "# Fit a model using only these specified features\n",
    "clf3.fit(X_train_vectorized, y_train)"
   ]
  },
  {
   "cell_type": "code",
   "execution_count": 39,
   "metadata": {},
   "outputs": [],
   "source": [
    "# make the actual outcomes\n",
    "train = pd.DataFrame(dict(actual=y_train))\n",
    "validate = pd.DataFrame(dict(actual=y_validate))\n",
    "test = pd.DataFrame(dict(actual=y_test))\n",
    "# make your predictions\n",
    "train['predicted'] = clf3.predict(X_train_vectorized)\n",
    "validate[\"predicted\"] = clf3.predict(X_validate_vectorized)\n",
    "test['predicted'] = clf3.predict(X_test_vectorized)"
   ]
  },
  {
   "cell_type": "code",
   "execution_count": 40,
   "metadata": {},
   "outputs": [
    {
     "data": {
      "text/plain": [
       "(0.9772727272727273, 0.5789473684210527)"
      ]
     },
     "execution_count": 40,
     "metadata": {},
     "output_type": "execute_result"
    }
   ],
   "source": [
    "sgd_train = clf3.score(X_train_vectorized, y_train)\n",
    "sgd_validate = clf3.score(X_validate_vectorized, y_validate)\n",
    "sgd_train, sgd_validate "
   ]
  },
  {
   "cell_type": "code",
   "execution_count": 41,
   "metadata": {},
   "outputs": [
    {
     "name": "stdout",
     "output_type": "stream",
     "text": [
      "The accuracy on the train data set is: \n",
      " 0.977\n",
      "The accuracy on the validate data set is: \n",
      " 0.579\n"
     ]
    }
   ],
   "source": [
    "def sgd_class_model(y_train, y_validate, y_test, X_train_vectorized, X_validate_vectorized, X_test_vectorized):\n",
    "    '''makes the model\n",
    "    fit the model\n",
    "    make actual and predicted outcomes\n",
    "    test accuracy on train and validate\n",
    "    return the accuracy readings'''\n",
    "    clf3 = SGDClassifier(max_iter=1000, tol=1e-3, random_state=123)\n",
    "    # Fit a model using only these specified features\n",
    "    clf3.fit(X_train_vectorized, y_train)\n",
    "    # make the actual outcomes\n",
    "    train = pd.DataFrame(dict(actual=y_train))\n",
    "    validate = pd.DataFrame(dict(actual=y_validate))\n",
    "    test = pd.DataFrame(dict(actual=y_test))\n",
    "    # make your predictions\n",
    "    train['predicted'] = clf3.predict(X_train_vectorized)\n",
    "    validate[\"predicted\"] = clf3.predict(X_validate_vectorized)\n",
    "    test['predicted'] = clf3.predict(X_test_vectorized)\n",
    "    # train accuracy\n",
    "    train = clf3.score(X_train_vectorized, y_train)\n",
    "    # validate accuracy\n",
    "    validate = clf3.score(X_validate_vectorized, y_validate)\n",
    "    print(f\"The accuracy on the train data set is: \\n\", round(train,3))\n",
    "    print(f\"The accuracy on the validate data set is: \\n\", round(validate,3))\n",
    "sgd_class_model(y_train, y_validate, y_test, X_train_vectorized, X_validate_vectorized, X_test_vectorized)"
   ]
  },
  {
   "cell_type": "markdown",
   "metadata": {},
   "source": [
    "___"
   ]
  },
  {
   "cell_type": "code",
   "execution_count": 42,
   "metadata": {},
   "outputs": [
    {
     "name": "stdout",
     "output_type": "stream",
     "text": [
      "Logistic Regression Model Train: \n",
      " 0.955\n",
      "Logistic Regrssion Model Validate: \n",
      " 0.421\n",
      "__________________________________________________________\n",
      "Logistic Regression Balanced Model Train: \n",
      " 0.977\n",
      "Logistic Regrssion Balanced Model Validate: \n",
      " 0.526\n",
      "__________________________________________________________\n",
      "KNN Model Train: \n",
      " 0.568\n",
      "KNN Model Validate: \n",
      " 0.579\n",
      "__________________________________________________________\n",
      "Decision Tree Model Train: \n",
      " 0.523\n",
      "Decision Tree Model Validate: \n",
      " 0.368\n",
      "__________________________________________________________\n",
      "Random Forest Model Train: \n",
      " 0.432\n",
      "Random Forest Model Validate: \n",
      " 0.421\n",
      "__________________________________________________________\n",
      "Ridge Classifier Model Train: \n",
      " 0.977\n",
      "Ridge Classifier Model Validate: \n",
      " 0.474\n",
      "__________________________________________________________\n",
      "SGDClassifier Model Train: \n",
      " 0.977\n",
      "SGDClassifier Model Validate: \n",
      " 0.579\n",
      "__________________________________________________________\n"
     ]
    }
   ],
   "source": [
    "print(f\"Logistic Regression Model Train: \\n\", round(logit_trian,3))\n",
    "print(f\"Logistic Regrssion Model Validate: \\n\", round(logit_validate,3))\n",
    "print(\"__________________________________________________________\")\n",
    "print(f\"Logistic Regression Balanced Model Train: \\n\", round(logit2_train,3))\n",
    "print(f\"Logistic Regrssion Balanced Model Validate: \\n\", round(logit2_validate,3))\n",
    "print(\"__________________________________________________________\")\n",
    "print(f\"KNN Model Train: \\n\", round(knn_train,3))\n",
    "print(f\"KNN Model Validate: \\n\", round(knn_validate,3))\n",
    "print(\"__________________________________________________________\")\n",
    "print(f\"Decision Tree Model Train: \\n\", round(dc_train,3))\n",
    "print(f\"Decision Tree Model Validate: \\n\", round(dc_validate,3))\n",
    "print(\"__________________________________________________________\")\n",
    "print(f\"Random Forest Model Train: \\n\", round(rf_train,3))\n",
    "print(f\"Random Forest Model Validate: \\n\", round(rf_validate,3))\n",
    "print(\"__________________________________________________________\")\n",
    "print(f\"Ridge Classifier Model Train: \\n\", round(ridge_train,3))\n",
    "print(f\"Ridge Classifier Model Validate: \\n\", round(ridge_validate,3))\n",
    "print(\"__________________________________________________________\")\n",
    "print(f\"SGDClassifier Model Train: \\n\", round(sgd_train,3))\n",
    "print(f\"SGDClassifier Model Validate: \\n\", round(sgd_validate,3))\n",
    "print(\"__________________________________________________________\")"
   ]
  },
  {
   "cell_type": "markdown",
   "metadata": {},
   "source": [
    "___"
   ]
  },
  {
   "cell_type": "markdown",
   "metadata": {},
   "source": [
    "# Best Model"
   ]
  },
  {
   "cell_type": "markdown",
   "metadata": {},
   "source": [
    "### SGDClassifier is the best model as of current"
   ]
  },
  {
   "cell_type": "code",
   "execution_count": 43,
   "metadata": {},
   "outputs": [
    {
     "data": {
      "text/plain": [
       "0.9772727272727273"
      ]
     },
     "execution_count": 43,
     "metadata": {},
     "output_type": "execute_result"
    }
   ],
   "source": [
    "sgd_train = clf3.score(X_train_vectorized, y_train)\n",
    "sgd_validate = clf3.score(X_validate_vectorized, y_validate)\n",
    "sgd_test = clf3.score(X_test_vectorized, y_test)\n",
    "sgd_train"
   ]
  },
  {
   "cell_type": "code",
   "execution_count": 48,
   "metadata": {},
   "outputs": [
    {
     "name": "stdout",
     "output_type": "stream",
     "text": [
      "SGDClassifier Model Train: \n",
      " 0.977\n",
      "SGDClassifier Model Validate: \n",
      " 0.579\n",
      "SGDClassifier Model Test: \n",
      " 0.438\n"
     ]
    }
   ],
   "source": [
    "def sgd_best_model(y_train, y_validate, y_test, X_train_vectorized, X_validate_vectorized, X_test_vectorized):\n",
    "    '''makes the model\n",
    "    fit the model\n",
    "    make actual and predicted outcomes\n",
    "    test accuracy on train and validate\n",
    "    return the accuracy readings'''\n",
    "    clf3 = SGDClassifier(max_iter=1000, tol=1e-3, random_state=123)\n",
    "    # Fit a model using only these specified features\n",
    "    clf3.fit(X_train_vectorized, y_train)\n",
    "    # make the actual outcomes\n",
    "    train = pd.DataFrame(dict(actual=y_train))\n",
    "    validate = pd.DataFrame(dict(actual=y_validate))\n",
    "    test = pd.DataFrame(dict(actual=y_test))\n",
    "    # make your predictions\n",
    "    train['predicted'] = clf3.predict(X_train_vectorized)\n",
    "    validate[\"predicted\"] = clf3.predict(X_validate_vectorized)\n",
    "    test['predicted'] = clf3.predict(X_test_vectorized)\n",
    "    # train accuracy\n",
    "    train = clf3.score(X_train_vectorized, y_train)\n",
    "    # validate accuracy\n",
    "    validate = clf3.score(X_validate_vectorized, y_validate)\n",
    "    # test accuracy\n",
    "    test = clf3.score(X_test_vectorized, y_test)\n",
    "    print(f\"SGDClassifier Model Train: \\n\", round(train,3))\n",
    "    print(f\"SGDClassifier Model Validate: \\n\", round(validate,3))\n",
    "    print(f\"SGDClassifier Model Test: \\n\", round(test,3))\n",
    "sgd_best_model(y_train, y_validate, y_test, X_train_vectorized, X_validate_vectorized, X_test_vectorized)"
   ]
  }
 ],
 "metadata": {
  "kernelspec": {
   "display_name": "Python 3",
   "language": "python",
   "name": "python3"
  },
  "language_info": {
   "codemirror_mode": {
    "name": "ipython",
    "version": 3
   },
   "file_extension": ".py",
   "mimetype": "text/x-python",
   "name": "python",
   "nbconvert_exporter": "python",
   "pygments_lexer": "ipython3",
   "version": "3.8.5"
  }
 },
 "nbformat": 4,
 "nbformat_minor": 4
}
